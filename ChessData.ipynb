{
  "nbformat": 4,
  "nbformat_minor": 0,
  "metadata": {
    "colab": {
      "name": "ChessData.ipynb",
      "provenance": [],
      "toc_visible": true
    },
    "kernelspec": {
      "name": "python3",
      "display_name": "Python 3"
    }
  },
  "cells": [
    {
      "cell_type": "markdown",
      "metadata": {
        "id": "A9L6tVHq-6H7"
      },
      "source": [
        "## Import libraries"
      ]
    },
    {
      "cell_type": "code",
      "metadata": {
        "id": "u2DHgFkAXyo4"
      },
      "source": [
        "import pandas as pd\n",
        "import numpy as np\n",
        "import matplotlib.pyplot as plt\n",
        "import seaborn as sns\n",
        "sns.set()"
      ],
      "execution_count": null,
      "outputs": []
    },
    {
      "cell_type": "code",
      "metadata": {
        "colab": {
          "base_uri": "https://localhost:8080/",
          "height": 316
        },
        "id": "iLaYXxyjZhhl",
        "outputId": "8704e558-e7bd-4baf-fc58-e54567f8c99a"
      },
      "source": [
        "df_raw = pd.read_csv('/content/games.csv')\n",
        "df_raw.tail()"
      ],
      "execution_count": null,
      "outputs": [
        {
          "output_type": "execute_result",
          "data": {
            "text/html": [
              "<div>\n",
              "<style scoped>\n",
              "    .dataframe tbody tr th:only-of-type {\n",
              "        vertical-align: middle;\n",
              "    }\n",
              "\n",
              "    .dataframe tbody tr th {\n",
              "        vertical-align: top;\n",
              "    }\n",
              "\n",
              "    .dataframe thead th {\n",
              "        text-align: right;\n",
              "    }\n",
              "</style>\n",
              "<table border=\"1\" class=\"dataframe\">\n",
              "  <thead>\n",
              "    <tr style=\"text-align: right;\">\n",
              "      <th></th>\n",
              "      <th>id</th>\n",
              "      <th>rated</th>\n",
              "      <th>created_at</th>\n",
              "      <th>last_move_at</th>\n",
              "      <th>turns</th>\n",
              "      <th>victory_status</th>\n",
              "      <th>winner</th>\n",
              "      <th>increment_code</th>\n",
              "      <th>white_id</th>\n",
              "      <th>white_rating</th>\n",
              "      <th>black_id</th>\n",
              "      <th>black_rating</th>\n",
              "      <th>moves</th>\n",
              "      <th>opening_eco</th>\n",
              "      <th>opening_name</th>\n",
              "      <th>opening_ply</th>\n",
              "    </tr>\n",
              "  </thead>\n",
              "  <tbody>\n",
              "    <tr>\n",
              "      <th>20053</th>\n",
              "      <td>EfqH7VVH</td>\n",
              "      <td>True</td>\n",
              "      <td>1.499791e+12</td>\n",
              "      <td>1.499791e+12</td>\n",
              "      <td>24</td>\n",
              "      <td>resign</td>\n",
              "      <td>white</td>\n",
              "      <td>10+10</td>\n",
              "      <td>belcolt</td>\n",
              "      <td>1691</td>\n",
              "      <td>jamboger</td>\n",
              "      <td>1220</td>\n",
              "      <td>d4 f5 e3 e6 Nf3 Nf6 Nc3 b6 Be2 Bb7 O-O Be7 Ne5...</td>\n",
              "      <td>A80</td>\n",
              "      <td>Dutch Defense</td>\n",
              "      <td>2</td>\n",
              "    </tr>\n",
              "    <tr>\n",
              "      <th>20054</th>\n",
              "      <td>WSJDhbPl</td>\n",
              "      <td>True</td>\n",
              "      <td>1.499698e+12</td>\n",
              "      <td>1.499699e+12</td>\n",
              "      <td>82</td>\n",
              "      <td>mate</td>\n",
              "      <td>black</td>\n",
              "      <td>10+0</td>\n",
              "      <td>jamboger</td>\n",
              "      <td>1233</td>\n",
              "      <td>farrukhasomiddinov</td>\n",
              "      <td>1196</td>\n",
              "      <td>d4 d6 Bf4 e5 Bg3 Nf6 e3 exd4 exd4 d5 c3 Bd6 Bd...</td>\n",
              "      <td>A41</td>\n",
              "      <td>Queen's Pawn</td>\n",
              "      <td>2</td>\n",
              "    </tr>\n",
              "    <tr>\n",
              "      <th>20055</th>\n",
              "      <td>yrAas0Kj</td>\n",
              "      <td>True</td>\n",
              "      <td>1.499698e+12</td>\n",
              "      <td>1.499698e+12</td>\n",
              "      <td>35</td>\n",
              "      <td>mate</td>\n",
              "      <td>white</td>\n",
              "      <td>10+0</td>\n",
              "      <td>jamboger</td>\n",
              "      <td>1219</td>\n",
              "      <td>schaaksmurf3</td>\n",
              "      <td>1286</td>\n",
              "      <td>d4 d5 Bf4 Nc6 e3 Nf6 c3 e6 Nf3 Be7 Bd3 O-O Nbd...</td>\n",
              "      <td>D00</td>\n",
              "      <td>Queen's Pawn Game: Mason Attack</td>\n",
              "      <td>3</td>\n",
              "    </tr>\n",
              "    <tr>\n",
              "      <th>20056</th>\n",
              "      <td>b0v4tRyF</td>\n",
              "      <td>True</td>\n",
              "      <td>1.499696e+12</td>\n",
              "      <td>1.499697e+12</td>\n",
              "      <td>109</td>\n",
              "      <td>resign</td>\n",
              "      <td>white</td>\n",
              "      <td>10+0</td>\n",
              "      <td>marcodisogno</td>\n",
              "      <td>1360</td>\n",
              "      <td>jamboger</td>\n",
              "      <td>1227</td>\n",
              "      <td>e4 d6 d4 Nf6 e5 dxe5 dxe5 Qxd1+ Kxd1 Nd5 c4 Nb...</td>\n",
              "      <td>B07</td>\n",
              "      <td>Pirc Defense</td>\n",
              "      <td>4</td>\n",
              "    </tr>\n",
              "    <tr>\n",
              "      <th>20057</th>\n",
              "      <td>N8G2JHGG</td>\n",
              "      <td>True</td>\n",
              "      <td>1.499643e+12</td>\n",
              "      <td>1.499644e+12</td>\n",
              "      <td>78</td>\n",
              "      <td>mate</td>\n",
              "      <td>black</td>\n",
              "      <td>10+0</td>\n",
              "      <td>jamboger</td>\n",
              "      <td>1235</td>\n",
              "      <td>ffbob</td>\n",
              "      <td>1339</td>\n",
              "      <td>d4 d5 Bf4 Na6 e3 e6 c3 Nf6 Nf3 Bd7 Nbd2 b5 Bd3...</td>\n",
              "      <td>D00</td>\n",
              "      <td>Queen's Pawn Game: Mason Attack</td>\n",
              "      <td>3</td>\n",
              "    </tr>\n",
              "  </tbody>\n",
              "</table>\n",
              "</div>"
            ],
            "text/plain": [
              "             id  rated  ...                     opening_name  opening_ply\n",
              "20053  EfqH7VVH   True  ...                    Dutch Defense            2\n",
              "20054  WSJDhbPl   True  ...                     Queen's Pawn            2\n",
              "20055  yrAas0Kj   True  ...  Queen's Pawn Game: Mason Attack            3\n",
              "20056  b0v4tRyF   True  ...                     Pirc Defense            4\n",
              "20057  N8G2JHGG   True  ...  Queen's Pawn Game: Mason Attack            3\n",
              "\n",
              "[5 rows x 16 columns]"
            ]
          },
          "metadata": {
            "tags": []
          },
          "execution_count": 4
        }
      ]
    },
    {
      "cell_type": "markdown",
      "metadata": {
        "id": "DCnfeYTt_AdF"
      },
      "source": [
        "### Checking for nulls"
      ]
    },
    {
      "cell_type": "code",
      "metadata": {
        "colab": {
          "base_uri": "https://localhost:8080/"
        },
        "id": "sOSpb0ba8hkH",
        "outputId": "f47babbe-bf38-4380-cac7-cc527e49c22f"
      },
      "source": [
        "df_raw.isnull().sum(axis = 0)"
      ],
      "execution_count": null,
      "outputs": [
        {
          "output_type": "execute_result",
          "data": {
            "text/plain": [
              "id                0\n",
              "rated             0\n",
              "created_at        0\n",
              "last_move_at      0\n",
              "turns             0\n",
              "victory_status    0\n",
              "winner            0\n",
              "increment_code    0\n",
              "white_id          0\n",
              "white_rating      0\n",
              "black_id          0\n",
              "black_rating      0\n",
              "moves             0\n",
              "opening_eco       0\n",
              "opening_name      0\n",
              "opening_ply       0\n",
              "base_time         0\n",
              "dtype: int64"
            ]
          },
          "metadata": {
            "tags": []
          },
          "execution_count": 32
        }
      ]
    },
    {
      "cell_type": "markdown",
      "metadata": {
        "id": "VNO4_iBn_Req"
      },
      "source": [
        "## Understanding data"
      ]
    },
    {
      "cell_type": "code",
      "metadata": {
        "colab": {
          "base_uri": "https://localhost:8080/"
        },
        "id": "R4cEkVQrZrWj",
        "outputId": "297c72e6-9a34-4c93-ddff-4f805bb96c83"
      },
      "source": [
        "#Number of different openings\n",
        "df_raw.opening_name.nunique()"
      ],
      "execution_count": null,
      "outputs": [
        {
          "output_type": "execute_result",
          "data": {
            "text/plain": [
              "1477"
            ]
          },
          "metadata": {
            "tags": []
          },
          "execution_count": 6
        }
      ]
    },
    {
      "cell_type": "code",
      "metadata": {
        "colab": {
          "base_uri": "https://localhost:8080/"
        },
        "id": "xX62oWZv7niR",
        "outputId": "9b06f4d4-ed15-4627-a547-1c8042768b6f"
      },
      "source": [
        "# Top 10 most used openings\n",
        "df_raw[\"opening_name\"].value_counts().head(10)"
      ],
      "execution_count": null,
      "outputs": [
        {
          "output_type": "execute_result",
          "data": {
            "text/plain": [
              "Van't Kruijs Opening                             368\n",
              "Sicilian Defense                                 358\n",
              "Sicilian Defense: Bowdler Attack                 296\n",
              "French Defense: Knight Variation                 271\n",
              "Scotch Game                                      271\n",
              "Scandinavian Defense: Mieses-Kotroc Variation    259\n",
              "Queen's Pawn Game: Mason Attack                  232\n",
              "Queen's Pawn Game: Chigorin Variation            229\n",
              "Scandinavian Defense                             223\n",
              "Horwitz Defense                                  209\n",
              "Name: opening_name, dtype: int64"
            ]
          },
          "metadata": {
            "tags": []
          },
          "execution_count": 27
        }
      ]
    },
    {
      "cell_type": "code",
      "metadata": {
        "colab": {
          "base_uri": "https://localhost:8080/"
        },
        "id": "jHj6DVU2aJKi",
        "outputId": "522544f1-4ba1-4a60-e0dc-051afe54bba2"
      },
      "source": [
        "#How many wins white has when the opening is Queen's Gambit?\n",
        "\n",
        "df_raw.loc[(df_raw['winner'] == 'white') & (df_raw['opening_name'] == \"Queen's Gambit\")].count()"
      ],
      "execution_count": null,
      "outputs": [
        {
          "output_type": "execute_result",
          "data": {
            "text/plain": [
              "id                10\n",
              "rated             10\n",
              "created_at        10\n",
              "last_move_at      10\n",
              "turns             10\n",
              "victory_status    10\n",
              "winner            10\n",
              "increment_code    10\n",
              "white_id          10\n",
              "white_rating      10\n",
              "black_id          10\n",
              "black_rating      10\n",
              "moves             10\n",
              "opening_eco       10\n",
              "opening_name      10\n",
              "opening_ply       10\n",
              "base_time         10\n",
              "dtype: int64"
            ]
          },
          "metadata": {
            "tags": []
          },
          "execution_count": 29
        }
      ]
    },
    {
      "cell_type": "code",
      "metadata": {
        "id": "g_gRjpV3_bpr"
      },
      "source": [
        "# FUNCTIONS TO EASE PLOTTING\n",
        "\n",
        "def plot_hist(df_name, column, title=\"all\"):\n",
        "    plt.hist(df_name[column],density=True)\n",
        "    plt.title(title)\n",
        "    plt.show()\n",
        "\n",
        "def plot_bar(df_name, column, sort=False, title=\"all\"):\n",
        "    if sort:\n",
        "        data_all = df_name[column].value_counts().sort_index()\n",
        "    else:\n",
        "        data_all = df_name[column].value_counts()\n",
        "    plt.bar(data_all.index,data_all)\n",
        "    plt.title(title)\n",
        "    plt.show()"
      ],
      "execution_count": null,
      "outputs": []
    },
    {
      "cell_type": "code",
      "metadata": {
        "colab": {
          "base_uri": "https://localhost:8080/",
          "height": 282
        },
        "id": "xR7ikvPK_ygF",
        "outputId": "6e2cec6b-988e-4d4a-b61d-633c8a523176"
      },
      "source": [
        "plot_bar(df_raw, \"victory_status\", title=\"Formas de vitória\")"
      ],
      "execution_count": null,
      "outputs": [
        {
          "output_type": "display_data",
          "data": {
            "image/png": "[encoded data removed]",
            "text/plain": [
              "<Figure size 432x288 with 1 Axes>"
            ]
          },
          "metadata": {
            "tags": []
          }
        }
      ]
    },
    {
      "cell_type": "code",
      "metadata": {
        "colab": {
          "base_uri": "https://localhost:8080/",
          "height": 282
        },
        "id": "2GTJY0RMBdln",
        "outputId": "d593e49e-c8a5-4c92-87ff-dd80256afff6"
      },
      "source": [
        "plot_bar(df_raw, \"winner\")"
      ],
      "execution_count": null,
      "outputs": [
        {
          "output_type": "display_data",
          "data": {
            "image/png": "[encoded data removed]",
            "text/plain": [
              "<Figure size 432x288 with 1 Axes>"
            ]
          },
          "metadata": {
            "tags": []
          }
        }
      ]
    },
    {
      "cell_type": "code",
      "metadata": {
        "colab": {
          "base_uri": "https://localhost:8080/",
          "height": 282
        },
        "id": "-A3beslZBlDu",
        "outputId": "5d1fa014-283d-4fc8-e72c-9353e3cadfd4"
      },
      "source": [
        "plot_hist(df_raw, \"turns\")"
      ],
      "execution_count": null,
      "outputs": [
        {
          "output_type": "display_data",
          "data": {
            "image/png": "[encoded data removed]",
            "text/plain": [
              "<Figure size 432x288 with 1 Axes>"
            ]
          },
          "metadata": {
            "tags": []
          }
        }
      ]
    },
    {
      "cell_type": "markdown",
      "metadata": {
        "id": "QOAEHU2e2lZi"
      },
      "source": [
        "### Pearson correlation test to check whether turns increase linealy with rating."
      ]
    },
    {
      "cell_type": "code",
      "metadata": {
        "id": "ZY3YYA5uz0ne"
      },
      "source": [
        "def pearson_correl (column1, column2):\n",
        "  from scipy.stats import pearsonr\n",
        "  data1 = column1\n",
        "  data2 = column2\n",
        "  stat, p = pearsonr(data1, data2)\n",
        "  print('stat=%.3f, p=%.3f' % (stat, p))\n",
        "  if p > 0.05:\n",
        "\t    print('Probably independent')\n",
        "  else:\n",
        "\t    print('Probably dependent')"
      ],
      "execution_count": null,
      "outputs": []
    },
    {
      "cell_type": "code",
      "metadata": {
        "colab": {
          "base_uri": "https://localhost:8080/"
        },
        "id": "nFutBUUV3eDr",
        "outputId": "46f82136-9322-451f-a6a9-7c558c2a1559"
      },
      "source": [
        "pearson_correl(df_raw.turns, df_raw.white_rating)"
      ],
      "execution_count": null,
      "outputs": [
        {
          "output_type": "stream",
          "text": [
            "stat=0.130, p=0.000\n",
            "Probably dependent\n"
          ],
          "name": "stdout"
        }
      ]
    },
    {
      "cell_type": "code",
      "metadata": {
        "colab": {
          "base_uri": "https://localhost:8080/",
          "height": 283
        },
        "id": "ytoJJ_AQ1VcM",
        "outputId": "df40e83a-057f-4155-9ef0-b7dc87cf0f08"
      },
      "source": [
        "plt.scatter(data1, data2, c=\"#292929\")"
      ],
      "execution_count": null,
      "outputs": [
        {
          "output_type": "execute_result",
          "data": {
            "text/plain": [
              "<matplotlib.collections.PathCollection at 0x7f30b5c0e550>"
            ]
          },
          "metadata": {
            "tags": []
          },
          "execution_count": 10
        },
        {
          "output_type": "display_data",
          "data": {
            "image/png": "[encoded data removed]",
            "text/plain": [
              "<Figure size 432x288 with 1 Axes>"
            ]
          },
          "metadata": {
            "tags": []
          }
        }
      ]
    },
    {
      "cell_type": "markdown",
      "metadata": {
        "id": "hL3y7Gqi4zs1"
      },
      "source": [
        "As we can see above, there is no clear tendency in the samples, only a huge blob of data with some outliers, which explains the \"p\" value being 0.000"
      ]
    },
    {
      "cell_type": "code",
      "metadata": {
        "id": "Ekn6wQI95A6M"
      },
      "source": [
        ""
      ],
      "execution_count": null,
      "outputs": []
    }
  ]
}